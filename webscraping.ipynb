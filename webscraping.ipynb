{
 "cells": [
  {
   "cell_type": "code",
   "execution_count": 91,
   "id": "cf6c60e2",
   "metadata": {},
   "outputs": [
    {
     "name": "stdout",
     "output_type": "stream",
     "text": [
      "Selected internship data (including stipends) saved to 'internship_data_with_stipends.csv'\n"
     ]
    }
   ],
   "source": [
    "import requests\n",
    "from bs4 import BeautifulSoup\n",
    "import csv\n",
    "\n",
    "# Initialize lists to store data\n",
    "all_company_names = []\n",
    "all_titles = []\n",
    "all_locations = []\n",
    "all_stipends = []\n",
    "\n",
    "# Iterate through pages from 1 to 149\n",
    "for page_number in range(1, 150):\n",
    "    url = f'https://internshala.com/internships/page-{page_number}'\n",
    "    page = requests.get(url)\n",
    "    soup = BeautifulSoup(page.content, 'html.parser')\n",
    "\n",
    "    company_names = soup.find_all(class_='link_display_like_text view_detail_button')\n",
    "    selected_company_names = [company.text.strip() for company in company_names[1:41]]\n",
    "\n",
    "    internship_titles = soup.find_all(class_='heading_4_5 profile')\n",
    "    selected_titles = [title.text.replace('\\n', '').strip() for title in internship_titles[1:41]]\n",
    "\n",
    "    internship_locations = soup.find_all(class_='location_link view_detail_button')\n",
    "    selected_locations = [location.text.replace('\\n', '').strip() for location in internship_locations[1:41]]\n",
    "\n",
    "    stipends = soup.find_all(class_='stipend')\n",
    "    selected_stipends = [stipend.text.strip() if stipend.text.strip() else 'NA' for stipend in stipends[1:41]]\n",
    "\n",
    "    all_company_names.extend(selected_company_names)\n",
    "    all_titles.extend(selected_titles)\n",
    "    all_locations.extend(selected_locations)\n",
    "    all_stipends.extend(selected_stipends)\n",
    "\n",
    "# Write the data to a single CSV file\n",
    "with open('internship_data_with_stipends.csv', mode='w', newline='', encoding='utf-8') as file:\n",
    "    writer = csv.writer(file)\n",
    "    writer.writerow(['Company Name', 'Title', 'Location', 'Stipend'])  # Write header\n",
    "    for company, title, location, stipend in zip(all_company_names, all_titles, all_locations, all_stipends):\n",
    "        writer.writerow([company, title, location, stipend])\n",
    "\n",
    "print(\"Selected internship data (including stipends) saved to 'internship_data_with_stipends.csv'\")\n"
   ]
  },
  {
   "cell_type": "code",
   "execution_count": 93,
   "id": "5ef351fd",
   "metadata": {},
   "outputs": [
    {
     "name": "stdout",
     "output_type": "stream",
     "text": [
      "Selected internship data (including stipends and work from home) saved to 'internship_data_with_stipends_and_workfromhome.csv'\n"
     ]
    }
   ],
   "source": [
    "# PJ1. Updated\n",
    "\n",
    "import requests\n",
    "from bs4 import BeautifulSoup\n",
    "import csv\n",
    "\n",
    "# Initialize lists to store data\n",
    "all_company_names = []\n",
    "all_titles = []\n",
    "all_locations = []\n",
    "all_stipends = []\n",
    "all_work_from_home = []\n",
    "\n",
    "# Iterate through pages from 1 to 149\n",
    "for page_number in range(1, 150):\n",
    "    url = f'https://internshala.com/internships/page-{page_number}'\n",
    "    page = requests.get(url)\n",
    "    soup = BeautifulSoup(page.content, 'html.parser')\n",
    "\n",
    "    company_names = soup.find_all(class_='link_display_like_text view_detail_button')\n",
    "    selected_company_names = [company.text.strip() for company in company_names[1:41]]\n",
    "\n",
    "    internship_titles = soup.find_all(class_='heading_4_5 profile')\n",
    "    selected_titles = [title.text.replace('\\n', '').strip() for title in internship_titles[1:41]]\n",
    "\n",
    "    internship_locations = soup.find_all(class_='location_link view_detail_button')\n",
    "    selected_locations = [location.text.replace('\\n', '').strip() for location in internship_locations[1:41]]\n",
    "\n",
    "    stipends = soup.find_all(class_='stipend')\n",
    "    selected_stipends = [stipend.text.strip() if stipend.text.strip() else 'NA' for stipend in stipends[1:41]]\n",
    "\n",
    "    work_from_home = ['Yes' if 'Work From Home' in location else 'No' for location in selected_locations]\n",
    "    \n",
    "    all_company_names.extend(selected_company_names)\n",
    "    all_titles.extend(selected_titles)\n",
    "    all_locations.extend(selected_locations)\n",
    "    all_stipends.extend(selected_stipends)\n",
    "    all_work_from_home.extend(work_from_home)\n",
    "\n",
    "# Write the data to a single CSV file\n",
    "with open('internship_data_with_stipends_and_workfromhome.csv', mode='w', newline='', encoding='utf-8') as file:\n",
    "    writer = csv.writer(file)\n",
    "    writer.writerow(['Company Name', 'Title', 'Location', 'Stipend', 'Work From Home'])  # Write header\n",
    "    for company, title, location, stipend, wfh in zip(all_company_names, all_titles, all_locations, all_stipends, all_work_from_home):\n",
    "        writer.writerow([company, title, location, stipend, wfh])\n",
    "\n",
    "print(\"Selected internship data (including stipends and work from home) saved to 'internship_data_with_stipends_and_workfromhome.csv'\")\n"
   ]
  },
  {
   "cell_type": "code",
   "execution_count": null,
   "id": "14c988e3",
   "metadata": {},
   "outputs": [],
   "source": []
  }
 ],
 "metadata": {
  "kernelspec": {
   "display_name": "Python 3 (ipykernel)",
   "language": "python",
   "name": "python3"
  },
  "language_info": {
   "codemirror_mode": {
    "name": "ipython",
    "version": 3
   },
   "file_extension": ".py",
   "mimetype": "text/x-python",
   "name": "python",
   "nbconvert_exporter": "python",
   "pygments_lexer": "ipython3",
   "version": "3.11.0"
  }
 },
 "nbformat": 4,
 "nbformat_minor": 5
}
